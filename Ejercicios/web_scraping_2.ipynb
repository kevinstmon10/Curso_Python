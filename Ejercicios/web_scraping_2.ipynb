{
 "cells": [
  {
   "cell_type": "markdown",
   "metadata": {},
   "source": [
    "Web Scraping"
   ]
  },
  {
   "cell_type": "code",
   "execution_count": 59,
   "metadata": {},
   "outputs": [],
   "source": [
    "# importar las librerias\n",
    "import requests # la peticion GET a la pagina de e-commerce\n",
    "import csv # generar el archivo final\n",
    "from bs4 import BeautifulSoup # Extraer la informacion de la pagina"
   ]
  },
  {
   "cell_type": "code",
   "execution_count": 60,
   "metadata": {},
   "outputs": [],
   "source": [
    "# Direccion de la pagina\n",
    "url = 'http://quotes.toscrape.com/'"
   ]
  },
  {
   "cell_type": "code",
   "execution_count": 61,
   "metadata": {},
   "outputs": [],
   "source": [
    "# Peticion GET\n",
    "respuesta = requests.get(url) "
   ]
  },
  {
   "cell_type": "code",
   "execution_count": 62,
   "metadata": {},
   "outputs": [],
   "source": [
    "# Conversion a html\n",
    "html = BeautifulSoup(respuesta.text, 'html.parser')"
   ]
  },
  {
   "cell_type": "code",
   "execution_count": 63,
   "metadata": {},
   "outputs": [],
   "source": [
    "# extraer el autor y la cita\n",
    "autores = html.find_all('small', class_='author')\n",
    "citas = html.find_all('span', class_='text')"
   ]
  },
  {
   "cell_type": "code",
   "execution_count": 64,
   "metadata": {},
   "outputs": [],
   "source": [
    "# autores\n",
    "autores_limpio = []\n",
    "for autor in autores:\n",
    "    autores_limpio.append(autor.get_text())"
   ]
  },
  {
   "cell_type": "code",
   "execution_count": 65,
   "metadata": {},
   "outputs": [],
   "source": [
    "#citas\n",
    "citas_limpio = []\n",
    "for cita in citas:\n",
    "    citas_limpio.append(cita.get_text())"
   ]
  },
  {
   "cell_type": "code",
   "execution_count": 66,
   "metadata": {},
   "outputs": [
    {
     "name": "stdout",
     "output_type": "stream",
     "text": [
      "('Albert Einstein', '“The world as we have created it is a process of our thinking. It cannot be changed without changing our thinking.”')\n",
      "('J.K. Rowling', '“It is our choices, Harry, that show what we truly are, far more than our abilities.”')\n",
      "('Albert Einstein', '“There are only two ways to live your life. One is as though nothing is a miracle. The other is as though everything is a miracle.”')\n",
      "('Jane Austen', '“The person, be it gentleman or lady, who has not pleasure in a good novel, must be intolerably stupid.”')\n",
      "('Marilyn Monroe', \"“Imperfection is beauty, madness is genius and it's better to be absolutely ridiculous than absolutely boring.”\")\n",
      "('Albert Einstein', '“Try not to become a man of success. Rather become a man of value.”')\n",
      "('André Gide', '“It is better to be hated for what you are than to be loved for what you are not.”')\n",
      "('Thomas A. Edison', \"“I have not failed. I've just found 10,000 ways that won't work.”\")\n",
      "('Eleanor Roosevelt', \"“A woman is like a tea bag; you never know how strong it is until it's in hot water.”\")\n",
      "('Steve Martin', '“A day without sunshine is like, you know, night.”')\n"
     ]
    }
   ],
   "source": [
    "# ejemplo: combinar las listas #Funcion zip()\n",
    "for cita_completa in zip(autores_limpio, citas_limpio):\n",
    "    print(cita_completa)"
   ]
  },
  {
   "cell_type": "code",
   "execution_count": 68,
   "metadata": {},
   "outputs": [],
   "source": [
    "# crear el archivo w = write\n",
    "with open('./data.csv', 'w') as csv_file:\n",
    "    csv_writer = csv.writer(csv_file, dialect='excel')\n",
    "    csv_writer.writerows(zip(autores_limpio, citas_limpio))"
   ]
  },
  {
   "cell_type": "code",
   "execution_count": null,
   "metadata": {},
   "outputs": [],
   "source": []
  }
 ],
 "metadata": {
  "kernelspec": {
   "display_name": "Python 3",
   "language": "python",
   "name": "python3"
  },
  "language_info": {
   "codemirror_mode": {
    "name": "ipython",
    "version": 3
   },
   "file_extension": ".py",
   "mimetype": "text/x-python",
   "name": "python",
   "nbconvert_exporter": "python",
   "pygments_lexer": "ipython3",
   "version": "3.9.5"
  }
 },
 "nbformat": 4,
 "nbformat_minor": 4
}
