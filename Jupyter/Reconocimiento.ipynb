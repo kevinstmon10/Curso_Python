{
 "cells": [
  {
   "cell_type": "code",
   "execution_count": 1,
   "id": "bc5ceac7-c134-4ef4-a676-d53a358a0c62",
   "metadata": {},
   "outputs": [],
   "source": [
    "import cv2\n",
    "import matplotlib.pyplot as plt"
   ]
  },
  {
   "cell_type": "code",
   "execution_count": 2,
   "id": "01ab8ec9-08ff-4b85-92e1-f6a73382ca75",
   "metadata": {},
   "outputs": [],
   "source": [
    "#Cargamos nuestro classificador de Haar:\n",
    "cascada_rostro = cv2.CascadeClassifier('haarcascade_frontalface_alt.xml')"
   ]
  },
  {
   "cell_type": "code",
   "execution_count": 3,
   "id": "0b688541-5368-4822-9e21-a236a0b70889",
   "metadata": {},
   "outputs": [
    {
     "name": "stdout",
     "output_type": "stream",
     "text": [
      "False\n"
     ]
    }
   ],
   "source": [
    "print(cascada_rostro.empty())\n",
    "img = cv2.imread(\"Johnny.jpg\")"
   ]
  },
  {
   "cell_type": "code",
   "execution_count": 4,
   "id": "0bf89d4f-0c6e-41b4-b70d-35d3d0afa89a",
   "metadata": {},
   "outputs": [],
   "source": [
    "img_gris = cv2.cvtColor(img, cv2.COLOR_BGR2GRAY)"
   ]
  },
  {
   "cell_type": "code",
   "execution_count": 5,
   "id": "c24943be-2181-49ce-bee8-ba4f379f4cf1",
   "metadata": {},
   "outputs": [],
   "source": [
    "#Buscamos los rostros:\n",
    "coordenadas_rostros = cascada_rostro.detectMultiScale(img_gris, 1.3, 5)"
   ]
  },
  {
   "cell_type": "code",
   "execution_count": 6,
   "id": "8536ba3a-97d2-4f33-8321-fb7cebf5176d",
   "metadata": {},
   "outputs": [],
   "source": [
    "for (x,y,ancho, alto) in coordenadas_rostros:\n",
    "    cv2.rectangle(img, (x,y), (x+ancho, y+alto), (0,0,255) , 3)"
   ]
  },
  {
   "cell_type": "code",
   "execution_count": 7,
   "id": "a1004735-76de-4821-914b-728691c3c667",
   "metadata": {},
   "outputs": [
    {
     "name": "stdout",
     "output_type": "stream",
     "text": [
      "\n",
      "Monstrando resultado. pulse cualquier tecla para salir.\n",
      "\n"
     ]
    }
   ],
   "source": [
    "#abrimos la ventana con el resultado\n",
    "cv2.imshow('Output', img)\n",
    "print('\\nMonstrando resultado. pulse cualquier tecla para salir.\\n')\n",
    "cv2.waitKey(0)\n",
    "cv2.destroyAllWindows()"
   ]
  },
  {
   "cell_type": "code",
   "execution_count": null,
   "id": "9115cc08-ccda-4059-8138-0853cabecf16",
   "metadata": {},
   "outputs": [],
   "source": []
  }
 ],
 "metadata": {
  "kernelspec": {
   "display_name": "Python 3",
   "language": "python",
   "name": "python3"
  },
  "language_info": {
   "codemirror_mode": {
    "name": "ipython",
    "version": 3
   },
   "file_extension": ".py",
   "mimetype": "text/x-python",
   "name": "python",
   "nbconvert_exporter": "python",
   "pygments_lexer": "ipython3",
   "version": "3.9.6"
  }
 },
 "nbformat": 4,
 "nbformat_minor": 5
}
