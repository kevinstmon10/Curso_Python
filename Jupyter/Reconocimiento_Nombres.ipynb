{
 "cells": [
  {
   "cell_type": "code",
   "execution_count": 2,
   "id": "b20fd3c8-07ac-4825-98e7-b0cbb3fc5096",
   "metadata": {},
   "outputs": [],
   "source": [
    "%config IPCompleter.greedy=True"
   ]
  },
  {
   "cell_type": "code",
   "execution_count": 3,
   "id": "967cb748-597f-4fa8-a5ac-13221168df2f",
   "metadata": {},
   "outputs": [],
   "source": [
    "import cv2 #open-cv\n",
    "import face_recognition"
   ]
  },
  {
   "cell_type": "code",
   "execution_count": 9,
   "id": "75fde617-92a1-44f0-8f23-958188e72003",
   "metadata": {},
   "outputs": [],
   "source": [
    "#cargar la imagen base\n",
    "imagen_1 = face_recognition.load_image_file('Keanu.jpg')"
   ]
  },
  {
   "cell_type": "code",
   "execution_count": 10,
   "id": "fafdb464-258d-4cb8-bad2-d10674e2a170",
   "metadata": {},
   "outputs": [],
   "source": [
    "#El siguiente paso es extraer los 'encodings' de cada imagen.\n",
    "#Los encodings son las características únicas de cada rostro que permiten diferenciarlo de otros.\n",
    "img1_encodings = face_recognition.face_encodings(imagen_1)[0]"
   ]
  },
  {
   "cell_type": "code",
   "execution_count": 11,
   "id": "7d9353c3-3d69-4466-baa3-13db203f6d1c",
   "metadata": {},
   "outputs": [],
   "source": [
    "#Creamos un array con los encodings y otro con sus respectivos nombres:\n",
    "encodings_conocidos = [\n",
    "    img1_encodings,\n",
    "]\n",
    "nombres_conocidos = [\n",
    "    \"Keanu Reeves\",\n",
    "]"
   ]
  },
  {
   "cell_type": "code",
   "execution_count": 12,
   "id": "b5dcb35c-0107-4fe3-90ac-7282b78d1643",
   "metadata": {},
   "outputs": [],
   "source": [
    "#Cargamos una fuente de texto:\n",
    "font = cv2.FONT_HERSHEY_COMPLEX\n",
    " "
   ]
  },
  {
   "cell_type": "code",
   "execution_count": 13,
   "id": "6b9d7486-020f-4bd7-8775-b49a141633df",
   "metadata": {},
   "outputs": [],
   "source": [
    "#Cargamos la imagen donde hay que identificar los rostros:\n",
    "img = face_recognition.load_image_file('Johnny.jpg')\n",
    "#(Para probar la segunda imagen hay que cambiar el argumento de la función por 'imagen_input2.jpg')"
   ]
  },
  {
   "cell_type": "code",
   "execution_count": 14,
   "id": "05c24958-7c71-41ba-aca8-1cb4bf71b734",
   "metadata": {},
   "outputs": [],
   "source": [
    "# Definir tres arrays, que servirán para guardar los parámetros de los rostros que se encuentren en la imagen:\n",
    "loc_rostros = [] #Localizacion de los rostros en la imagen (contendrá las coordenadas de los recuadros que las contienen)\n",
    "encodings_rostros = [] #Encodings de los rostros\n",
    "nombres_rostros = [] #Nombre de la persona de cada rostro"
   ]
  },
  {
   "cell_type": "code",
   "execution_count": 15,
   "id": "da8ccead-57ef-47ba-8e6d-7faa8df60b1a",
   "metadata": {},
   "outputs": [],
   "source": [
    "#Localizamos cada rostro de la imagen y extraemos sus encodings:\n",
    "loc_rostros = face_recognition.face_locations(img)\n",
    "encodings_rostros = face_recognition.face_encodings(img, loc_rostros)"
   ]
  },
  {
   "cell_type": "code",
   "execution_count": 16,
   "id": "ae98d202-d8ee-488c-bfc2-baa9164ecd79",
   "metadata": {},
   "outputs": [],
   "source": [
    "#Recorremos el array de encodings que hemos encontrado:\n",
    "for encoding in encodings_rostros:\n",
    " \n",
    "    #Buscamos si hay alguna coincidencia con algún encoding conocido:\n",
    "    coincidencias = face_recognition.compare_faces(encodings_conocidos, encoding)\n",
    " \n",
    "    #El array 'coincidencias' es ahora un array de booleanos.\n",
    "    #Si contiene algun 'True', es que ha habido alguna coincidencia:\n",
    "    if True in coincidencias:\n",
    "        #Buscamos el nombre correspondiente en el array de nombres conocidos:\n",
    "        nombre = nombres_conocidos[coincidencias.index(True)]\n",
    " \n",
    "    #Si no hay ningún 'True' en el array 'coincidencias', no se ha podido identificar el rostro:\n",
    "    else:\n",
    "        nombre = \"???\"\n",
    " \n",
    "    #Añadimos el nombre de la persona identificada en el array de nombres:\n",
    "    nombres_rostros.append(nombre)"
   ]
  },
  {
   "cell_type": "code",
   "execution_count": 17,
   "id": "ab2c35d3-e84b-4c4d-a232-a86124f70a4a",
   "metadata": {},
   "outputs": [],
   "source": [
    "#Dibujamos un recuadro rojo alrededor de los rostros desconocidos, y uno verde alrededor de los conocidos:\n",
    "for (top, right, bottom, left), nombre in zip(loc_rostros, nombres_rostros):\n",
    " \n",
    "    #Cambiar el color segun el nombre:\n",
    "    if nombre != \"???\":\n",
    "        color = (0,255,0) #Verde\n",
    "    else:\n",
    "        color = (0,0,255) #Rojo\n",
    " \n",
    "    #Dibujar los recuadros alrededor del rostro:\n",
    "    cv2.rectangle(img, (left, top), (right, bottom), color, 2)\n",
    "    cv2.rectangle(img, (left, bottom - 20), (right, bottom), color, -1)\n",
    " \n",
    "    #Escribir el nombre de la persona:\n",
    "    cv2.putText(img, nombre, (left, bottom - 6), font, 0.6, (0,0,0), 1)"
   ]
  },
  {
   "cell_type": "code",
   "execution_count": 18,
   "id": "c3ccb21a-56a2-4e19-94c3-4c04009d052c",
   "metadata": {},
   "outputs": [
    {
     "name": "stdout",
     "output_type": "stream",
     "text": [
      "\n",
      "Mostrando resultado. Pulsa cualquier tecla para salir.\n",
      "\n"
     ]
    }
   ],
   "source": [
    "#Abrimos una ventana con el resultado:\n",
    "cv2.imshow('Output', img)\n",
    "print(\"\\nMostrando resultado. Pulsa cualquier tecla para salir.\\n\")\n",
    "cv2.waitKey(0)\n",
    "cv2.destroyAllWindows()\n"
   ]
  },
  {
   "cell_type": "code",
   "execution_count": null,
   "id": "fdabd555-9706-49a2-9f78-93509fc07a79",
   "metadata": {},
   "outputs": [],
   "source": []
  }
 ],
 "metadata": {
  "kernelspec": {
   "display_name": "Python 3",
   "language": "python",
   "name": "python3"
  },
  "language_info": {
   "codemirror_mode": {
    "name": "ipython",
    "version": 3
   },
   "file_extension": ".py",
   "mimetype": "text/x-python",
   "name": "python",
   "nbconvert_exporter": "python",
   "pygments_lexer": "ipython3",
   "version": "3.9.6"
  }
 },
 "nbformat": 4,
 "nbformat_minor": 5
}
