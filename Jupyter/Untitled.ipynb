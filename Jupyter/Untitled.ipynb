{
 "cells": [
  {
   "cell_type": "code",
   "execution_count": 2,
   "id": "e50e175f-40f7-43f3-99d2-ec7debe8e194",
   "metadata": {},
   "outputs": [],
   "source": [
    "%config IPCompleter.greedy=True"
   ]
  },
  {
   "cell_type": "code",
   "execution_count": 3,
   "id": "30ad6761-9ab0-4737-b787-8cabe92f943f",
   "metadata": {},
   "outputs": [],
   "source": [
    "import pandas as pd\n",
    "import pyodbc\n",
    "import matplotlib.pyplot as plt"
   ]
  },
  {
   "cell_type": "code",
   "execution_count": 4,
   "id": "03227525-98dd-4c84-bda8-6f7c81af6642",
   "metadata": {},
   "outputs": [],
   "source": [
    "server = '20.106.135.81'\n",
    "user = 'BI_SQL'\n",
    "password = 'D4t4_$21.5'"
   ]
  },
  {
   "cell_type": "code",
   "execution_count": 5,
   "id": "cd50915e-ecd5-4834-a4df-f9903ffa02fc",
   "metadata": {},
   "outputs": [],
   "source": [
    "conn = pyodbc.connect('Driver={ODBC Driver 17 for SQL Server};SERVER='+server+';UID='+user+';PWD='+password)"
   ]
  },
  {
   "cell_type": "code",
   "execution_count": 6,
   "id": "f7a258b6-05ea-409f-be48-13a36ea1fd08",
   "metadata": {},
   "outputs": [],
   "source": [
    "query = 'SELECT * FROM BI_TEST.dbo.VW_People_Clean'"
   ]
  },
  {
   "cell_type": "code",
   "execution_count": 7,
   "id": "cec1dac4-d174-43d6-87b7-4e2937377885",
   "metadata": {},
   "outputs": [],
   "source": [
    "#extraer la view\n",
    "df = pd.read_sql(query, conn)"
   ]
  },
  {
   "cell_type": "code",
   "execution_count": 8,
   "id": "7d94be97-de65-47b8-b36a-55367c37b2f9",
   "metadata": {},
   "outputs": [
    {
     "data": {
      "text/html": [
       "<div>\n",
       "<style scoped>\n",
       "    .dataframe tbody tr th:only-of-type {\n",
       "        vertical-align: middle;\n",
       "    }\n",
       "\n",
       "    .dataframe tbody tr th {\n",
       "        vertical-align: top;\n",
       "    }\n",
       "\n",
       "    .dataframe thead th {\n",
       "        text-align: right;\n",
       "    }\n",
       "</style>\n",
       "<table border=\"1\" class=\"dataframe\">\n",
       "  <thead>\n",
       "    <tr style=\"text-align: right;\">\n",
       "      <th></th>\n",
       "      <th>Year</th>\n",
       "      <th>Age</th>\n",
       "      <th>Area</th>\n",
       "      <th>Ethnic</th>\n",
       "      <th>Sex</th>\n",
       "      <th>count</th>\n",
       "    </tr>\n",
       "  </thead>\n",
       "  <tbody>\n",
       "    <tr>\n",
       "      <th>0</th>\n",
       "      <td>2006</td>\n",
       "      <td>Under 15 years</td>\n",
       "      <td>North Cape</td>\n",
       "      <td>European</td>\n",
       "      <td>Male</td>\n",
       "      <td>57</td>\n",
       "    </tr>\n",
       "    <tr>\n",
       "      <th>1</th>\n",
       "      <td>2006</td>\n",
       "      <td>Under 15 years</td>\n",
       "      <td>Rangaunu Harbour</td>\n",
       "      <td>European</td>\n",
       "      <td>Male</td>\n",
       "      <td>141</td>\n",
       "    </tr>\n",
       "    <tr>\n",
       "      <th>2</th>\n",
       "      <td>2006</td>\n",
       "      <td>Under 15 years</td>\n",
       "      <td>Inlets Far North District</td>\n",
       "      <td>European</td>\n",
       "      <td>Male</td>\n",
       "      <td>..C</td>\n",
       "    </tr>\n",
       "    <tr>\n",
       "      <th>3</th>\n",
       "      <td>2006</td>\n",
       "      <td>Under 15 years</td>\n",
       "      <td>Karikari Peninsula</td>\n",
       "      <td>European</td>\n",
       "      <td>Male</td>\n",
       "      <td>45</td>\n",
       "    </tr>\n",
       "    <tr>\n",
       "      <th>4</th>\n",
       "      <td>2006</td>\n",
       "      <td>Under 15 years</td>\n",
       "      <td>Tangonge</td>\n",
       "      <td>European</td>\n",
       "      <td>Male</td>\n",
       "      <td>69</td>\n",
       "    </tr>\n",
       "  </tbody>\n",
       "</table>\n",
       "</div>"
      ],
      "text/plain": [
       "   Year             Age                       Area    Ethnic   Sex count\n",
       "0  2006  Under 15 years                 North Cape  European  Male    57\n",
       "1  2006  Under 15 years           Rangaunu Harbour  European  Male   141\n",
       "2  2006  Under 15 years  Inlets Far North District  European  Male   ..C\n",
       "3  2006  Under 15 years         Karikari Peninsula  European  Male    45\n",
       "4  2006  Under 15 years                   Tangonge  European  Male    69"
      ]
     },
     "execution_count": 8,
     "metadata": {},
     "output_type": "execute_result"
    }
   ],
   "source": [
    "df.head()"
   ]
  },
  {
   "cell_type": "code",
   "execution_count": 9,
   "id": "10511534-421c-44be-9bae-0783a18ed33e",
   "metadata": {},
   "outputs": [],
   "source": [
    "## Clean data\n",
    "df['#Registro'] = 1"
   ]
  },
  {
   "cell_type": "code",
   "execution_count": 10,
   "id": "f608d30e-4d04-4073-8677-ced86c1bde72",
   "metadata": {},
   "outputs": [],
   "source": [
    "# agrupar por edad\n",
    "ageDf = df.groupby('Age').sum().reset_index()\n",
    "# agrupar por area\n",
    "areaDf = df.groupby('Area').sum().reset_index()\n",
    "# agrupar por etnia\n",
    "ethnicDf = df.groupby('Ethnic').sum().reset_index()\n",
    "# agrupar por sexo\n",
    "sexDf = df.groupby('Sex').sum().reset_index()"
   ]
  },
  {
   "cell_type": "code",
   "execution_count": 14,
   "id": "489fc65c-6944-48a0-9d32-5692263296e0",
   "metadata": {},
   "outputs": [
    {
     "data": {
      "image/png": "[encoded data removed]",
      "text/plain": [
       "<Figure size 432x288 with 1 Axes>"
      ]
     },
     "metadata": {},
     "output_type": "display_data"
    }
   ],
   "source": [
    "## sex\n",
    "fig1, ax1 = plt.subplots()\n",
    "ax1.pie(sexDf['#Registro'], labels=sexDf['Sex'], autopct='%1.1f%%', shadow=True, startangle=90)\n",
    "ax1.axis('equal')\n",
    "plt.show()"
   ]
  },
  {
   "cell_type": "code",
   "execution_count": 19,
   "id": "34249e11-b6f6-4fa9-9b58-f1a3d598bc49",
   "metadata": {},
   "outputs": [],
   "source": [
    "df.to_csv('data.csv')"
   ]
  },
  {
   "cell_type": "code",
   "execution_count": null,
   "id": "91f11ef0-4c61-4236-ae13-e8c9fa1a3445",
   "metadata": {},
   "outputs": [],
   "source": []
  }
 ],
 "metadata": {
  "kernelspec": {
   "display_name": "Python 3",
   "language": "python",
   "name": "python3"
  },
  "language_info": {
   "codemirror_mode": {
    "name": "ipython",
    "version": 3
   },
   "file_extension": ".py",
   "mimetype": "text/x-python",
   "name": "python",
   "nbconvert_exporter": "python",
   "pygments_lexer": "ipython3",
   "version": "3.9.6"
  }
 },
 "nbformat": 4,
 "nbformat_minor": 5
}
