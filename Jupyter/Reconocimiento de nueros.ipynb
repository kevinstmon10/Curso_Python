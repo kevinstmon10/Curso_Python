{
 "cells": [
  {
   "cell_type": "code",
   "execution_count": 1,
   "id": "ffd66592-3f9f-41ca-aae6-1faa002a1be1",
   "metadata": {},
   "outputs": [],
   "source": [
    "%config IPCompleter.greedy=True"
   ]
  },
  {
   "cell_type": "code",
   "execution_count": 2,
   "id": "fdc47857-85f6-4553-b5ad-828e2888e248",
   "metadata": {},
   "outputs": [
    {
     "name": "stdout",
     "output_type": "stream",
     "text": [
      "Automatically created module for IPython interactive environment\n"
     ]
    }
   ],
   "source": [
    "print(__doc__)"
   ]
  },
  {
   "cell_type": "code",
   "execution_count": 3,
   "id": "bbe383bf-ddec-4fd9-bde8-4cd899f50c75",
   "metadata": {},
   "outputs": [],
   "source": [
    "import matplotlib.pyplot as plt"
   ]
  },
  {
   "cell_type": "code",
   "execution_count": 4,
   "id": "80df6659-aeb7-4b80-b118-8564b3d4af8c",
   "metadata": {},
   "outputs": [],
   "source": [
    "#importar los clasificadores, metricas y datasets\n",
    "from sklearn import datasets, svm, metrics\n",
    "from sklearn.model_selection import train_test_split"
   ]
  },
  {
   "cell_type": "code",
   "execution_count": 5,
   "id": "f68ec5d4-5042-4108-9c22-98f1f6db7f9b",
   "metadata": {},
   "outputs": [],
   "source": [
    "#data set de digitos\n",
    "digits = datasets.load_digits()"
   ]
  },
  {
   "cell_type": "code",
   "execution_count": 6,
   "id": "72d24cbb-e82a-4bd8-8813-4df8a2f4a82f",
   "metadata": {},
   "outputs": [
    {
     "data": {
      "image/png": "[encoded data removed]",
      "text/plain": [
       "<Figure size 720x216 with 4 Axes>"
      ]
     },
     "metadata": {
      "needs_background": "light"
     },
     "output_type": "display_data"
    }
   ],
   "source": [
    "#### datos de entrenamiento\n",
    "# extraer las configuraciones  de las axes\n",
    "_, axes = plt.subplots(nrows=1, ncols=4, figsize=(10,3))\n",
    "# ciclar el data set para mostrar las imagenes\n",
    "for ax, image, label in zip(axes, digits.images, digits.target):\n",
    "    ax.set_axis_off() # borrar las lineas de las graficas\n",
    "    ax.imshow(image, cmap=plt.cm.gray_r, interpolation='nearest')# asignamos los formatos de imagen\n",
    "    ax.set_title('Training %i'%label)# Mostrar el titulo"
   ]
  },
  {
   "cell_type": "markdown",
   "id": "e011fa54-eb59-41c1-8793-0ae2527827a9",
   "metadata": {},
   "source": [
    "Clasificacion"
   ]
  },
  {
   "cell_type": "code",
   "execution_count": 7,
   "id": "432a49ce-09a8-4dcf-81fb-d648da16f209",
   "metadata": {},
   "outputs": [],
   "source": [
    "# aplanar las imagenes\n",
    "n_samples = len(digits.images)\n",
    "data = digits.images.reshape((n_samples, -1))## modela las imagenes"
   ]
  },
  {
   "cell_type": "code",
   "execution_count": 8,
   "id": "a80af83c-79f1-4587-a41c-3487c242f5de",
   "metadata": {},
   "outputs": [],
   "source": [
    "## clasificador con soporte de vectores SVC(support vector classifier)\n",
    "clf = svm.SVC(gamma=0.001) # indicar valor del gamma"
   ]
  },
  {
   "cell_type": "code",
   "execution_count": 9,
   "id": "8bff9b52-8fd8-4633-aeb4-47a82b5e7682",
   "metadata": {},
   "outputs": [],
   "source": [
    "## dividir la data en 50% entrenamiento y 50% test\n",
    "X_train, X_test, y_train, y_test = train_test_split(data, digits.target, test_size=0.5, shuffle=True)##revisar"
   ]
  },
  {
   "cell_type": "code",
   "execution_count": 18,
   "id": "8f3e3b75-1c51-4140-b543-2a748fd3738e",
   "metadata": {},
   "outputs": [
    {
     "data": {
      "text/plain": [
       "SVC(gamma=0.001)"
      ]
     },
     "execution_count": 18,
     "metadata": {},
     "output_type": "execute_result"
    }
   ],
   "source": [
    "## entrenamiento del modelo\n",
    "clf.fit(X_train, y_train)"
   ]
  },
  {
   "cell_type": "code",
   "execution_count": 19,
   "id": "1a9e8ea4-fe90-4bbb-9980-08d2dfdea5c2",
   "metadata": {},
   "outputs": [
    {
     "data": {
      "text/plain": [
       "0.9988864142538976"
      ]
     },
     "execution_count": 19,
     "metadata": {},
     "output_type": "execute_result"
    }
   ],
   "source": [
    "## calificacion del modelo\n",
    "clf.score(X_train, y_train)"
   ]
  },
  {
   "cell_type": "code",
   "execution_count": 11,
   "id": "cb9ed28f-9745-412c-ac50-82cea4a5b511",
   "metadata": {},
   "outputs": [],
   "source": [
    "## guardamos la prediccion \n",
    "predicted = clf.predict(X_test)"
   ]
  },
  {
   "cell_type": "code",
   "execution_count": 14,
   "id": "bafc7e6a-dd8e-4334-9ee6-d53a7f38297a",
   "metadata": {},
   "outputs": [
    {
     "data": {
      "image/png": "[encoded data removed]",
      "text/plain": [
       "<Figure size 720x216 with 4 Axes>"
      ]
     },
     "metadata": {
      "needs_background": "light"
     },
     "output_type": "display_data"
    }
   ],
   "source": [
    "## mostrar las predicciones\n",
    "_, axes = plt.subplots(nrows=1, ncols=4, figsize=(10,3))\n",
    "for ax, image, prediction in zip(axes, X_test, predicted):\n",
    "    ax.set_axis_off()## quitar lineas\n",
    "    image = image.reshape(8,8) # modificar el tamaño de la imagen\n",
    "    ax.imshow(image, cmap=plt.cm.gray_r, interpolation='nearest') # mostrar la imagen\n",
    "    ax.set_title(f'Prediction: {prediction}')"
   ]
  },
  {
   "cell_type": "code",
   "execution_count": 28,
   "id": "f6a6b3ed-6e54-441a-92d2-c5d938837b35",
   "metadata": {},
   "outputs": [
    {
     "name": "stdout",
     "output_type": "stream",
     "text": [
      "Clasification report for classifier SVC(gamma=0.001):\n",
      "              precision    recall  f1-score   support\n",
      "\n",
      "           0       1.00      1.00      1.00        90\n",
      "           1       1.00      1.00      1.00        86\n",
      "           2       1.00      1.00      1.00        86\n",
      "           3       1.00      0.98      0.99        93\n",
      "           4       1.00      0.98      0.99        91\n",
      "           5       0.99      0.99      0.99        96\n",
      "           6       1.00      1.00      1.00        90\n",
      "           7       0.99      0.99      0.99        90\n",
      "           8       1.00      0.98      0.99        96\n",
      "           9       0.93      1.00      0.96        81\n",
      "\n",
      "    accuracy                           0.99       899\n",
      "   macro avg       0.99      0.99      0.99       899\n",
      "weighted avg       0.99      0.99      0.99       899\n",
      "\n",
      "\n"
     ]
    }
   ],
   "source": [
    "## crear reporte mostrando las metricas de clasificacion\n",
    "print(f\"Clasification report for classifier {clf}:\\n\"\n",
    "      f\"{metrics.classification_report(y_test, predicted)}\\n\")"
   ]
  },
  {
   "cell_type": "code",
   "execution_count": 30,
   "id": "21d259cd-2551-4016-aa2d-487d3a5aff9c",
   "metadata": {},
   "outputs": [
    {
     "name": "stdout",
     "output_type": "stream",
     "text": [
      "Confusion matrix:\n",
      "[[90  0  0  0  0  0  0  0  0  0]\n",
      " [ 0 86  0  0  0  0  0  0  0  0]\n",
      " [ 0  0 86  0  0  0  0  0  0  0]\n",
      " [ 0  0  0 91  0  1  0  0  0  1]\n",
      " [ 0  0  0  0 89  0  0  1  0  1]\n",
      " [ 0  0  0  0  0 95  0  0  0  1]\n",
      " [ 0  0  0  0  0  0 90  0  0  0]\n",
      " [ 0  0  0  0  0  0  0 89  0  1]\n",
      " [ 0  0  0  0  0  0  0  0 94  2]\n",
      " [ 0  0  0  0  0  0  0  0  0 81]]\n"
     ]
    },
    {
     "data": {
      "image/png": "[encoded data removed]",
      "text/plain": [
       "<Figure size 432x288 with 2 Axes>"
      ]
     },
     "metadata": {
      "needs_background": "light"
     },
     "output_type": "display_data"
    }
   ],
   "source": [
    "## matriz de confusion\n",
    "disp = metrics.plot_confusion_matrix(clf, X_test, y_test)\n",
    "disp.figure_.suptitle('Confusion matrix')\n",
    "print(f\"Confusion matrix:\\n{disp.confusion_matrix}\")\n",
    "plt.show()"
   ]
  },
  {
   "cell_type": "code",
   "execution_count": null,
   "id": "ba276d0d-0564-4f9f-98bf-b7fea1a19ab5",
   "metadata": {},
   "outputs": [],
   "source": []
  }
 ],
 "metadata": {
  "kernelspec": {
   "display_name": "Python 3",
   "language": "python",
   "name": "python3"
  },
  "language_info": {
   "codemirror_mode": {
    "name": "ipython",
    "version": 3
   },
   "file_extension": ".py",
   "mimetype": "text/x-python",
   "name": "python",
   "nbconvert_exporter": "python",
   "pygments_lexer": "ipython3",
   "version": "3.9.6"
  }
 },
 "nbformat": 4,
 "nbformat_minor": 5
}
